{
  "cells": [
    {
      "cell_type": "markdown",
      "metadata": {
        "id": "view-in-github",
        "colab_type": "text"
      },
      "source": [
        "<a href=\"https://colab.research.google.com/github/sergiokapone/Fitting/blob/main/Approximation.ipynb\" target=\"_parent\"><img src=\"https://colab.research.google.com/assets/colab-badge.svg\" alt=\"Open In Colab\"/></a>"
      ]
    },
    {
      "cell_type": "markdown",
      "source": [
        "С. М. Пономаренко"
      ],
      "metadata": {
        "id": "F02LJO7y2yzE"
      }
    },
    {
      "cell_type": "markdown",
      "metadata": {
        "id": "XachHPpD3CNq"
      },
      "source": [
        "# Апроксимація результатів вимірювання"
      ]
    },
    {
      "cell_type": "markdown",
      "metadata": {
        "id": "hjNdGNaN-6es"
      },
      "source": [
        "Часто, результатом фізичного експерименту є виміряні значення пар величин $(x_i, y_i)$. Прийнято величини $y_i$ вважати залежними від величин $x_i$."
      ]
    },
    {
      "cell_type": "code",
      "execution_count": null,
      "metadata": {
        "id": "cBKgVN-3k_HN"
      },
      "outputs": [],
      "source": [
        "#@title Завантаження пакетів { vertical-output: true }\n",
        "from scipy.optimize import curve_fit\n",
        "import pandas as pd\n",
        "import numpy as np\n",
        "from ipywidgets import interact\n",
        "from matplotlib import pyplot as plt\n",
        "plt.rcParams['figure.figsize'] = [10, 6]\n",
        "plt.rcParams['figure.dpi'] = 100"
      ]
    },
    {
      "cell_type": "markdown",
      "metadata": {
        "id": "DN-20fys2HZe"
      },
      "source": [
        "Камінь кинули вгору. Зняли вимірювання залежності висоти каменя над поверхнею землі від часу [$t$ (с), $y$ (м), $\\Delta y$ (м)] "
      ]
    },
    {
      "cell_type": "code",
      "execution_count": null,
      "metadata": {
        "id": "mc04xlc8sAzX",
        "colab": {
          "base_uri": "https://localhost:8080/",
          "height": 708
        },
        "outputId": "4beb4934-5b42-4078-e57b-38f7e58de1b5"
      },
      "outputs": [
        {
          "output_type": "execute_result",
          "data": {
            "text/html": [
              "<div>\n",
              "<style scoped>\n",
              "    .dataframe tbody tr th:only-of-type {\n",
              "        vertical-align: middle;\n",
              "    }\n",
              "\n",
              "    .dataframe tbody tr th {\n",
              "        vertical-align: top;\n",
              "    }\n",
              "\n",
              "    .dataframe thead th {\n",
              "        text-align: right;\n",
              "    }\n",
              "</style>\n",
              "<table border=\"1\" class=\"dataframe\">\n",
              "  <thead>\n",
              "    <tr style=\"text-align: right;\">\n",
              "      <th></th>\n",
              "      <th>time</th>\n",
              "      <th>pos</th>\n",
              "      <th>spos</th>\n",
              "    </tr>\n",
              "  </thead>\n",
              "  <tbody>\n",
              "    <tr>\n",
              "      <th>0</th>\n",
              "      <td>0.0</td>\n",
              "      <td>0.16</td>\n",
              "      <td>0.42</td>\n",
              "    </tr>\n",
              "    <tr>\n",
              "      <th>1</th>\n",
              "      <td>0.1</td>\n",
              "      <td>3.12</td>\n",
              "      <td>0.53</td>\n",
              "    </tr>\n",
              "    <tr>\n",
              "      <th>2</th>\n",
              "      <td>0.2</td>\n",
              "      <td>2.82</td>\n",
              "      <td>0.55</td>\n",
              "    </tr>\n",
              "    <tr>\n",
              "      <th>3</th>\n",
              "      <td>0.3</td>\n",
              "      <td>3.70</td>\n",
              "      <td>0.48</td>\n",
              "    </tr>\n",
              "    <tr>\n",
              "      <th>4</th>\n",
              "      <td>0.4</td>\n",
              "      <td>4.39</td>\n",
              "      <td>0.45</td>\n",
              "    </tr>\n",
              "    <tr>\n",
              "      <th>5</th>\n",
              "      <td>0.5</td>\n",
              "      <td>5.90</td>\n",
              "      <td>0.51</td>\n",
              "    </tr>\n",
              "    <tr>\n",
              "      <th>6</th>\n",
              "      <td>0.6</td>\n",
              "      <td>5.45</td>\n",
              "      <td>0.48</td>\n",
              "    </tr>\n",
              "    <tr>\n",
              "      <th>7</th>\n",
              "      <td>0.7</td>\n",
              "      <td>7.27</td>\n",
              "      <td>0.48</td>\n",
              "    </tr>\n",
              "    <tr>\n",
              "      <th>8</th>\n",
              "      <td>0.8</td>\n",
              "      <td>6.39</td>\n",
              "      <td>0.44</td>\n",
              "    </tr>\n",
              "    <tr>\n",
              "      <th>9</th>\n",
              "      <td>0.9</td>\n",
              "      <td>6.91</td>\n",
              "      <td>0.50</td>\n",
              "    </tr>\n",
              "    <tr>\n",
              "      <th>10</th>\n",
              "      <td>1.0</td>\n",
              "      <td>7.03</td>\n",
              "      <td>0.52</td>\n",
              "    </tr>\n",
              "    <tr>\n",
              "      <th>11</th>\n",
              "      <td>1.1</td>\n",
              "      <td>8.13</td>\n",
              "      <td>0.49</td>\n",
              "    </tr>\n",
              "    <tr>\n",
              "      <th>12</th>\n",
              "      <td>1.2</td>\n",
              "      <td>8.00</td>\n",
              "      <td>0.51</td>\n",
              "    </tr>\n",
              "    <tr>\n",
              "      <th>13</th>\n",
              "      <td>1.3</td>\n",
              "      <td>7.56</td>\n",
              "      <td>0.52</td>\n",
              "    </tr>\n",
              "    <tr>\n",
              "      <th>14</th>\n",
              "      <td>1.4</td>\n",
              "      <td>8.45</td>\n",
              "      <td>0.57</td>\n",
              "    </tr>\n",
              "    <tr>\n",
              "      <th>15</th>\n",
              "      <td>1.5</td>\n",
              "      <td>7.95</td>\n",
              "      <td>0.50</td>\n",
              "    </tr>\n",
              "    <tr>\n",
              "      <th>16</th>\n",
              "      <td>1.6</td>\n",
              "      <td>7.97</td>\n",
              "      <td>0.43</td>\n",
              "    </tr>\n",
              "    <tr>\n",
              "      <th>17</th>\n",
              "      <td>1.7</td>\n",
              "      <td>6.89</td>\n",
              "      <td>0.50</td>\n",
              "    </tr>\n",
              "    <tr>\n",
              "      <th>18</th>\n",
              "      <td>1.8</td>\n",
              "      <td>7.19</td>\n",
              "      <td>0.54</td>\n",
              "    </tr>\n",
              "    <tr>\n",
              "      <th>19</th>\n",
              "      <td>1.9</td>\n",
              "      <td>6.49</td>\n",
              "      <td>0.46</td>\n",
              "    </tr>\n",
              "    <tr>\n",
              "      <th>20</th>\n",
              "      <td>2.0</td>\n",
              "      <td>4.98</td>\n",
              "      <td>0.53</td>\n",
              "    </tr>\n",
              "  </tbody>\n",
              "</table>\n",
              "</div>"
            ],
            "text/plain": [
              "    time   pos  spos\n",
              "0    0.0  0.16  0.42\n",
              "1    0.1  3.12  0.53\n",
              "2    0.2  2.82  0.55\n",
              "3    0.3  3.70  0.48\n",
              "4    0.4  4.39  0.45\n",
              "5    0.5  5.90  0.51\n",
              "6    0.6  5.45  0.48\n",
              "7    0.7  7.27  0.48\n",
              "8    0.8  6.39  0.44\n",
              "9    0.9  6.91  0.50\n",
              "10   1.0  7.03  0.52\n",
              "11   1.1  8.13  0.49\n",
              "12   1.2  8.00  0.51\n",
              "13   1.3  7.56  0.52\n",
              "14   1.4  8.45  0.57\n",
              "15   1.5  7.95  0.50\n",
              "16   1.6  7.97  0.43\n",
              "17   1.7  6.89  0.50\n",
              "18   1.8  7.19  0.54\n",
              "19   1.9  6.49  0.46\n",
              "20   2.0  4.98  0.53"
            ]
          },
          "metadata": {},
          "execution_count": 36
        }
      ],
      "source": [
        "#@title Експериментальні дані { vertical-output: true }\n",
        "data_array = np.array([\n",
        "          [0.0, 0.16, 0.42],\n",
        "          [0.1, 3.12, 0.53],\n",
        "          [0.2, 2.82, 0.55],\n",
        "          [0.3, 3.70, 0.48],\n",
        "          [0.4, 4.39, 0.45],\n",
        "          [0.5, 5.90, 0.51],\n",
        "          [0.6, 5.45, 0.48],\n",
        "          [0.7, 7.27, 0.48],\n",
        "          [0.8, 6.39, 0.44],\n",
        "          [0.9, 6.91, 0.50],\n",
        "          [1.0, 7.03, 0.52],\n",
        "          [1.1, 8.13, 0.49],\n",
        "          [1.2, 8.00, 0.51],\n",
        "          [1.3, 7.56, 0.52],\n",
        "          [1.4, 8.45, 0.57],\n",
        "          [1.5, 7.95, 0.50],\n",
        "          [1.6, 7.97, 0.43],\n",
        "          [1.7, 6.89, 0.50],\n",
        "          [1.8, 7.19, 0.54],\n",
        "          [1.9, 6.49, 0.46],\n",
        "          [2.0, 4.98, 0.53],\n",
        "])\n",
        "d = pd.DataFrame(data_array, columns = ['time','pos','spos'])\n",
        "d"
      ]
    },
    {
      "cell_type": "markdown",
      "metadata": {
        "id": "1bW29J_I2acD"
      },
      "source": [
        "Будуємо експериментальні точки з вказанням похибок $\\Delta y$ у виміряних значеннях висоти підняття каменя $y$."
      ]
    },
    {
      "cell_type": "code",
      "execution_count": null,
      "metadata": {
        "colab": {
          "base_uri": "https://localhost:8080/",
          "height": 533
        },
        "id": "XGVc8zY-tenm",
        "outputId": "70312a64-8c2d-4d58-d442-6e75bb4fa85c"
      },
      "outputs": [
        {
          "output_type": "display_data",
          "data": {
            "image/png": "[encoded data removed]",
            "text/plain": [
              "<Figure size 1000x600 with 1 Axes>"
            ]
          },
          "metadata": {
            "needs_background": "light"
          }
        }
      ],
      "source": [
        "#@title Графік залежності висоти $y(t)$\n",
        "plt.errorbar(d['time'],d['pos'],d['spos'],\n",
        "             fmt='o', ecolor = 'r', color = 'k',\n",
        "             markersize=5, capsize=4)\n",
        "plt.grid(True)\n",
        "plt.ylabel(\"Висота (м)\")\n",
        "plt.xlabel(\"час (с)\")\n",
        "plt.savefig(\"dataonly.pdf\")"
      ]
    },
    {
      "cell_type": "markdown",
      "source": [
        "## Метод найменших квадратів"
      ],
      "metadata": {
        "id": "fTfAbdwaax04"
      }
    },
    {
      "cell_type": "markdown",
      "metadata": {
        "id": "xaDb-TEV2mjD"
      },
      "source": [
        "Зазвичай, на практиці з якихось апріорних чи теоретичних міркувань відомо, який аналітичний вигляд має функція $y = f (x| p_1, p_2, \\ldots, p_p)$, що описує експериментальні дані, а невідомими є $p$ штук числових величин $p_i$ $(i = 1 \\ldots p)$. Така аналітична функція називається *моделлю*, а величини $p_i$ називаються *параметрами* моделі.\n",
        "\n",
        "Виникає задача, як підібрати значення параметрів так, щоб графік функції проходив якомога ближче до експериментальних точок? Така процедура називається апроксимацією.\n",
        "\n",
        "---\n",
        "\n",
        "(В англомовній літературі ця процедура називається \"fitting\", що дослівно перекладається як \"підгонка\" параметрів моделі).\n",
        "\n",
        "---\n",
        "\n",
        "\n",
        "Нехай у нас є експериментальні дані $(x_i, y_i)$, ми намагаємось застосувати модель  $y = f(x)$.\n",
        "\n",
        "Позначимо відстань від $i$-ї експериментальної точки до шуканої прямої, що виміряна по вертикалі як $\\Delta y_i$ (цей доданок називається *лишком*):\n",
        "\\begin{equation}\n",
        "\t\\Delta y_i = y_i - f(x_i| p_1, p_2, \\ldots, p_p)\n",
        "\\end{equation}\n",
        "і знайдемо суму\n",
        "\\begin{equation}\n",
        "\t\\chi^2(p_1, p_2, \\ldots, p_p) = \\sum\\limits_{i = 1}^n  \\left(\\frac{y_i - f(x_i| p_1, p_2, \\ldots, p_p)}{\\sigma_{y_i}}\\right)^2\n",
        "\\end{equation}\n",
        "яка залежить від параметрів $p_1, p_2, \\ldots, p_p$. Параметри підбираються так, щоб $\\chi^2(p_1, p_2, \\ldots, p_p) \\to \\min$. Така сума називається зваженою сумою квадратичних лишків.\n",
        "\n",
        "Даний метод побудови найкращої прямої називається методом найменших квадратів.\n",
        "\n",
        "У випадку, якщо більша частина відхилень даних від моделі буде порядку середньоквадратичної похибки, тобто $\\Delta y_i \\approx \\sigma_{y_i}$, то сума $\\chi^2$ буде за порядком величини дорівнювати числу доданків, що входять в неї, тобто $\\chi^2 \\approx n$.\n",
        "\n",
        "---\n",
        "\n",
        "Спробуйте самостійно підібрати параметри $y_0$, $v_0$ та $a$ моделі $y = y_0 + v_0 t + \\frac{at^2}{2}$ рухаючи повзунки.  Спостерігайте за значенням $\\chi^2$. Модель буде найкраще описувати дані, якщо $\\chi^2$ буде наближено дорівнювати числу експериметальних точок ($n = 21$ в нашому випадку, тобто $\\chi^2 \\approx 21$).\n",
        "\n",
        "---"
      ]
    },
    {
      "cell_type": "code",
      "execution_count": null,
      "metadata": {
        "colab": {
          "base_uri": "https://localhost:8080/",
          "height": 672,
          "referenced_widgets": [
            "e63f5696e7524329a92947b20f303f53",
            "7290553014d8455db75e84e7da3392c4",
            "12170962358a4eeda2116683b27b5932",
            "03c1d40081ff4c08ac5bf91fa8275f12",
            "703d9a8beef34189b03cd886086794c7",
            "9f748d0fcabb4e91ad469afff5038612",
            "1c39141e56cb42f68df59c868d9aab74",
            "240193f3f9dd473c8033748abf942cb9",
            "71d1624ecb45481681f3c033d0667952",
            "253fe2a7af19437ab7f353a6f350febc",
            "f2b8470beb7e4b3ca52fcf5b47122fba",
            "cd759d6eb7b84553901d90a72a2a88da",
            "e88ea9d7209d480e9d067e9b4da861f7"
          ]
        },
        "id": "VOqp09hxumEn",
        "outputId": "4d74a6ea-7ea8-41cd-a1ed-505780ef613e"
      },
      "outputs": [
        {
          "output_type": "display_data",
          "data": {
            "application/vnd.jupyter.widget-view+json": {
              "model_id": "e63f5696e7524329a92947b20f303f53",
              "version_minor": 0,
              "version_major": 2
            },
            "text/plain": [
              "interactive(children=(FloatSlider(value=1.5, description='y0', max=5.0, min=-2.0), FloatSlider(value=10.0, des…"
            ]
          },
          "metadata": {}
        },
        {
          "output_type": "execute_result",
          "data": {
            "text/plain": [
              "<function __main__.HandChoise>"
            ]
          },
          "metadata": {},
          "execution_count": 38
        }
      ],
      "source": [
        "#@title Ручний підбір параметрів\n",
        "def HandChoise(y0,v0,a):\n",
        "    def model(t,y0,v0,a):\n",
        "        return y0 + v0*t + 0.5*a*t**2\n",
        "\n",
        "    init_guess = [1,1,-10]\n",
        "\n",
        "    plt.errorbar(d['time'],d['pos'],d['spos'],\n",
        "                 fmt='o', ecolor = 'r', color = 'k',\n",
        "                 markersize=5, capsize=4, label=\"дані\")\n",
        "    plt.ylabel(\"Висота (м)\")\n",
        "    plt.xlabel(\"час (с)\")\n",
        "    plt.grid(True)\n",
        "\n",
        "    t = np.linspace(0,2)\n",
        "    plt.plot(t,model(t,y0,v0,a), color = 'b', label=\"модель\")\n",
        "    plt.legend(bbox_to_anchor=(0.01, 0.99), loc='upper left', borderaxespad=0.)\n",
        "    \n",
        "    chisq = sum((d['pos'] - model(d['time'],y0,v0,a))**2/d['spos']**2)\n",
        "    \n",
        "    plt.title(\"$\\\\chi^2 = %.2f$\"%chisq)\n",
        "\n",
        "interact(HandChoise,y0=(-2.0,5.0),v0=(0.0,20.0),a=(-15.0,-5.0))"
      ]
    },
    {
      "cell_type": "markdown",
      "metadata": {
        "id": "JM7CuZ-W23SL"
      },
      "source": [
        "Метод найменших квадратів в якому враховуються лише похибки залежних змінних $y_i$ реалізується за допомогою алгоритму [Левенберга-Марквардта](https://en.wikipedia.org/wiki/Levenberg–Marquardt_algorithm). \n",
        "\n",
        "Довіримо тепер знаходження парамерів моделі саме цьому алгоритму."
      ]
    },
    {
      "cell_type": "code",
      "execution_count": null,
      "metadata": {
        "id": "SQRuENa6u2LF"
      },
      "outputs": [],
      "source": [
        "#@title Алгоритм підбору параметрів\n",
        "# Модельна функція\n",
        "\n",
        "def model(t, y0, v0, a):\n",
        "    y = y0 + v0 * t + a * t ** 2 / 2\n",
        "    return y\n",
        "\n",
        "# Наближені значення фітингових параметрів\n",
        "init_guess = [1,1,-10]\n",
        "\n",
        "# Апроксимація даних\n",
        "fit = curve_fit(model, d['time'], d['pos'], sigma=d['spos'],\n",
        "                p0=init_guess, absolute_sigma=True)\n",
        "\n",
        "# Запис параметрів у змінні\n",
        "ans,cov = fit\n",
        "y0,v0,a = ans\n",
        "sy0,sv0,sa = np.sqrt(np.diag(cov))"
      ]
    },
    {
      "cell_type": "code",
      "source": [
        "#@title Побудова модельного графіку\n",
        "# Побудова даних\n",
        "plt.grid(True)\n",
        "plt.errorbar(d['time'],d['pos'],d['spos'],\n",
        "             label=\"дані\", fmt='o', ecolor = 'r', color = 'k',\n",
        "             markersize=5, capsize=4)\n",
        "plt.ylabel(\"Висота (м)\")\n",
        "plt.xlabel(\"час (с)\")\n",
        "\n",
        "# Розрахунок хі-квадрату\n",
        "chisq = sum((d['pos'] - model(d['time'],y0,v0,a))**2/d['spos']**2)\n",
        "\n",
        "# Побудова графіка за результатами апроксимації\n",
        "t = np.linspace(0,2)\n",
        "plt.plot(t, model(t,y0,v0,a),\n",
        "         color = 'b', label=\"модель $y = y_0 + v_0 t + \\\\frac{at^2}{2}$\")\n",
        "plt.legend(bbox_to_anchor=(0.01, 0.99), loc='upper left', borderaxespad=0.)\n",
        "\n",
        "# Виведення результатів на координатну площину\n",
        "plt.title('$\\\\chi^2 = %.2f$\\n Параметри моделі $y_0 = (%.2f \\\\pm %.2f)$ м, '\n",
        "          '$v_0 = (%.1f \\\\pm %.1f)$ м/с, '\n",
        "          '$a = (%.1f \\\\pm %.1f)$ м/с$^2$'\n",
        "          %(chisq,y0,sy0,v0,sv0,a,sa),\n",
        "          fontsize=10,\n",
        "         )\n",
        "\n",
        "print(\"chisq = %.2f\"%chisq)\n",
        "print(\"y_0 = (%.2f +/- %.2f) м\"%(y0,sy0))\n",
        "print(\"v_0 = (%.2f +/- %.2f) м/с\"%(v0,sv0))\n",
        "print(\"a = (%.2f +/- %.2f) м/с^2\"%(a,sa))"
      ],
      "metadata": {
        "colab": {
          "base_uri": "https://localhost:8080/",
          "height": 650
        },
        "id": "yEn2CX7WzTsd",
        "outputId": "b78dda5c-335d-40ce-a144-2d645b866f6b"
      },
      "execution_count": null,
      "outputs": [
        {
          "output_type": "stream",
          "name": "stdout",
          "text": [
            "chisq = 22.88\n",
            "y_0 = (0.75 +/- 0.28) м\n",
            "v_0 = (11.29 +/- 0.67) м/с\n",
            "a = (-8.81 +/- 0.65) м/с^2\n"
          ]
        },
        {
          "output_type": "display_data",
          "data": {
            "image/png": "[encoded data removed]",
            "text/plain": [
              "<Figure size 1000x600 with 1 Axes>"
            ]
          },
          "metadata": {
            "needs_background": "light"
          }
        }
      ]
    },
    {
      "cell_type": "markdown",
      "source": [
        "## Метод найменших повних квадратів"
      ],
      "metadata": {
        "id": "4nUq0xoDaiWW"
      }
    },
    {
      "cell_type": "markdown",
      "source": [
        "У розглянутому вище методі враховуються лише похибки у залежних величинах $y_i$, а тому виникає обмеження в його використанні лише для випадку коли похибками незалежних змінних можна знехтувати ($\\sigma_{x_i} \\approx 0$).  Однак, на практиці виникає потреба у такому методі, в якому цими похибками нехтувати не можна. Тому треба будувати суму $\\chi^2$ з урахуванням похибок $\\sigma_{x_i}$. Ідея такої побудови полягає в тому, щоб в якості\n",
        "доданків брати не відстань від точки до прямої по вертикалі $d_{\\parallel_i} = |y_i - f(x_i)|$, а ортогональну відстань від точки до прямої $d^2_{\\perp_i} = (x_i - \\tilde{x}_i)^2  + (y_i - \\tilde{y}_i)^2$, причому, кожен із доданків в сумі треба взяти з відповідним ваговим коефіцієнтом, що обернений до похибки. Тоді сума для мінімізації прийме вигляд:\n",
        "\\begin{equation}\n",
        "\t\\tilde{\\chi}^2 = \\sum\\limits_{i = 1}^n  \\left[\\left(\\frac{x_i - \\tilde{x}_i}{\\sigma_{x_i}}\\right)^2 + \\left(\\frac{y_i - f(\\tilde{x}_i)}{\\sigma_{y_i}}\\right)^2\\right],\n",
        "\\end{equation}\n",
        "де точка $(\\tilde{x}_i,\\tilde{y}_i)$ розташована на шуканій прямій на найкоротшій (ортогональній) відстані від експериментальної точки $(x_i, y_i)$.\n",
        "\n"
      ],
      "metadata": {
        "id": "dr8x2XE5a3qc"
      }
    },
    {
      "cell_type": "markdown",
      "source": [
        "Розглянемо тепер ті ж самі експериментальні дані, але врахуємо похибку годинника. Тепер наші дані виглядатимуть як [$t$ (с), $y$ (м), $\\Delta t$ (с),$\\Delta y$ (м)] "
      ],
      "metadata": {
        "id": "mTl2_O8FfmwE"
      }
    },
    {
      "cell_type": "code",
      "source": [
        "#@title Експериментальні дані { vertical-output: true }\n",
        "data_array = np.array([\n",
        "          [0.00, 0.16, 0.03, 0.42],\n",
        "          [0.10, 3.12, 0.03, 0.53],\n",
        "          [0.20, 2.82, 0.03, 0.55],\n",
        "          [0.30, 3.70, 0.03, 0.48],\n",
        "          [0.40, 4.39, 0.03, 0.45],\n",
        "          [0.50, 5.90, 0.03, 0.51],\n",
        "          [0.60, 5.45, 0.03, 0.48],\n",
        "          [0.70, 7.27, 0.03, 0.48],\n",
        "          [0.80, 6.39, 0.03, 0.44],\n",
        "          [0.90, 6.91, 0.03, 0.50],\n",
        "          [1.00, 7.03, 0.03, 0.52],\n",
        "          [1.10, 8.13, 0.03, 0.49],\n",
        "          [1.20, 8.00, 0.03, 0.51],\n",
        "          [1.30, 7.56, 0.03, 0.52],\n",
        "          [1.40, 8.45, 0.03, 0.57],\n",
        "          [1.50, 7.95, 0.03, 0.50],\n",
        "          [1.60, 7.97, 0.03, 0.43],\n",
        "          [1.70, 6.89, 0.03, 0.50],\n",
        "          [1.80, 7.19, 0.03, 0.54],\n",
        "          [1.90, 6.49, 0.03, 0.46],\n",
        "          [2.00, 4.98, 0.03, 0.53],\n",
        "])\n",
        "d = pd.DataFrame(data_array, columns = ['time','pos','stime','spos'])\n",
        "d"
      ],
      "metadata": {
        "colab": {
          "base_uri": "https://localhost:8080/",
          "height": 708
        },
        "id": "TTvxSTDXfiO_",
        "outputId": "1f25af85-afc0-4dcc-ebc4-ee895cac828c"
      },
      "execution_count": null,
      "outputs": [
        {
          "output_type": "execute_result",
          "data": {
            "text/html": [
              "<div>\n",
              "<style scoped>\n",
              "    .dataframe tbody tr th:only-of-type {\n",
              "        vertical-align: middle;\n",
              "    }\n",
              "\n",
              "    .dataframe tbody tr th {\n",
              "        vertical-align: top;\n",
              "    }\n",
              "\n",
              "    .dataframe thead th {\n",
              "        text-align: right;\n",
              "    }\n",
              "</style>\n",
              "<table border=\"1\" class=\"dataframe\">\n",
              "  <thead>\n",
              "    <tr style=\"text-align: right;\">\n",
              "      <th></th>\n",
              "      <th>time</th>\n",
              "      <th>pos</th>\n",
              "      <th>stime</th>\n",
              "      <th>spos</th>\n",
              "    </tr>\n",
              "  </thead>\n",
              "  <tbody>\n",
              "    <tr>\n",
              "      <th>0</th>\n",
              "      <td>0.0</td>\n",
              "      <td>0.16</td>\n",
              "      <td>0.03</td>\n",
              "      <td>0.42</td>\n",
              "    </tr>\n",
              "    <tr>\n",
              "      <th>1</th>\n",
              "      <td>0.1</td>\n",
              "      <td>3.12</td>\n",
              "      <td>0.03</td>\n",
              "      <td>0.53</td>\n",
              "    </tr>\n",
              "    <tr>\n",
              "      <th>2</th>\n",
              "      <td>0.2</td>\n",
              "      <td>2.82</td>\n",
              "      <td>0.03</td>\n",
              "      <td>0.55</td>\n",
              "    </tr>\n",
              "    <tr>\n",
              "      <th>3</th>\n",
              "      <td>0.3</td>\n",
              "      <td>3.70</td>\n",
              "      <td>0.03</td>\n",
              "      <td>0.48</td>\n",
              "    </tr>\n",
              "    <tr>\n",
              "      <th>4</th>\n",
              "      <td>0.4</td>\n",
              "      <td>4.39</td>\n",
              "      <td>0.03</td>\n",
              "      <td>0.45</td>\n",
              "    </tr>\n",
              "    <tr>\n",
              "      <th>5</th>\n",
              "      <td>0.5</td>\n",
              "      <td>5.90</td>\n",
              "      <td>0.03</td>\n",
              "      <td>0.51</td>\n",
              "    </tr>\n",
              "    <tr>\n",
              "      <th>6</th>\n",
              "      <td>0.6</td>\n",
              "      <td>5.45</td>\n",
              "      <td>0.03</td>\n",
              "      <td>0.48</td>\n",
              "    </tr>\n",
              "    <tr>\n",
              "      <th>7</th>\n",
              "      <td>0.7</td>\n",
              "      <td>7.27</td>\n",
              "      <td>0.03</td>\n",
              "      <td>0.48</td>\n",
              "    </tr>\n",
              "    <tr>\n",
              "      <th>8</th>\n",
              "      <td>0.8</td>\n",
              "      <td>6.39</td>\n",
              "      <td>0.03</td>\n",
              "      <td>0.44</td>\n",
              "    </tr>\n",
              "    <tr>\n",
              "      <th>9</th>\n",
              "      <td>0.9</td>\n",
              "      <td>6.91</td>\n",
              "      <td>0.03</td>\n",
              "      <td>0.50</td>\n",
              "    </tr>\n",
              "    <tr>\n",
              "      <th>10</th>\n",
              "      <td>1.0</td>\n",
              "      <td>7.03</td>\n",
              "      <td>0.03</td>\n",
              "      <td>0.52</td>\n",
              "    </tr>\n",
              "    <tr>\n",
              "      <th>11</th>\n",
              "      <td>1.1</td>\n",
              "      <td>8.13</td>\n",
              "      <td>0.03</td>\n",
              "      <td>0.49</td>\n",
              "    </tr>\n",
              "    <tr>\n",
              "      <th>12</th>\n",
              "      <td>1.2</td>\n",
              "      <td>8.00</td>\n",
              "      <td>0.03</td>\n",
              "      <td>0.51</td>\n",
              "    </tr>\n",
              "    <tr>\n",
              "      <th>13</th>\n",
              "      <td>1.3</td>\n",
              "      <td>7.56</td>\n",
              "      <td>0.03</td>\n",
              "      <td>0.52</td>\n",
              "    </tr>\n",
              "    <tr>\n",
              "      <th>14</th>\n",
              "      <td>1.4</td>\n",
              "      <td>8.45</td>\n",
              "      <td>0.03</td>\n",
              "      <td>0.57</td>\n",
              "    </tr>\n",
              "    <tr>\n",
              "      <th>15</th>\n",
              "      <td>1.5</td>\n",
              "      <td>7.95</td>\n",
              "      <td>0.03</td>\n",
              "      <td>0.50</td>\n",
              "    </tr>\n",
              "    <tr>\n",
              "      <th>16</th>\n",
              "      <td>1.6</td>\n",
              "      <td>7.97</td>\n",
              "      <td>0.03</td>\n",
              "      <td>0.43</td>\n",
              "    </tr>\n",
              "    <tr>\n",
              "      <th>17</th>\n",
              "      <td>1.7</td>\n",
              "      <td>6.89</td>\n",
              "      <td>0.03</td>\n",
              "      <td>0.50</td>\n",
              "    </tr>\n",
              "    <tr>\n",
              "      <th>18</th>\n",
              "      <td>1.8</td>\n",
              "      <td>7.19</td>\n",
              "      <td>0.03</td>\n",
              "      <td>0.54</td>\n",
              "    </tr>\n",
              "    <tr>\n",
              "      <th>19</th>\n",
              "      <td>1.9</td>\n",
              "      <td>6.49</td>\n",
              "      <td>0.03</td>\n",
              "      <td>0.46</td>\n",
              "    </tr>\n",
              "    <tr>\n",
              "      <th>20</th>\n",
              "      <td>2.0</td>\n",
              "      <td>4.98</td>\n",
              "      <td>0.03</td>\n",
              "      <td>0.53</td>\n",
              "    </tr>\n",
              "  </tbody>\n",
              "</table>\n",
              "</div>"
            ],
            "text/plain": [
              "    time   pos  stime  spos\n",
              "0    0.0  0.16   0.03  0.42\n",
              "1    0.1  3.12   0.03  0.53\n",
              "2    0.2  2.82   0.03  0.55\n",
              "3    0.3  3.70   0.03  0.48\n",
              "4    0.4  4.39   0.03  0.45\n",
              "5    0.5  5.90   0.03  0.51\n",
              "6    0.6  5.45   0.03  0.48\n",
              "7    0.7  7.27   0.03  0.48\n",
              "8    0.8  6.39   0.03  0.44\n",
              "9    0.9  6.91   0.03  0.50\n",
              "10   1.0  7.03   0.03  0.52\n",
              "11   1.1  8.13   0.03  0.49\n",
              "12   1.2  8.00   0.03  0.51\n",
              "13   1.3  7.56   0.03  0.52\n",
              "14   1.4  8.45   0.03  0.57\n",
              "15   1.5  7.95   0.03  0.50\n",
              "16   1.6  7.97   0.03  0.43\n",
              "17   1.7  6.89   0.03  0.50\n",
              "18   1.8  7.19   0.03  0.54\n",
              "19   1.9  6.49   0.03  0.46\n",
              "20   2.0  4.98   0.03  0.53"
            ]
          },
          "metadata": {},
          "execution_count": 42
        }
      ]
    },
    {
      "cell_type": "code",
      "execution_count": null,
      "metadata": {
        "colab": {
          "base_uri": "https://localhost:8080/",
          "height": 533
        },
        "outputId": "9544f749-4b86-456a-e165-183205ddb316",
        "id": "xG18CZj3gt9k"
      },
      "outputs": [
        {
          "output_type": "display_data",
          "data": {
            "image/png": "[encoded data removed]",
            "text/plain": [
              "<Figure size 1000x600 with 1 Axes>"
            ]
          },
          "metadata": {
            "needs_background": "light"
          }
        }
      ],
      "source": [
        "#@title Графік залежності висоти $y(t)$\n",
        "plt.errorbar(d['time'], d['pos'], xerr= d['stime'], yerr = d['spos'], \n",
        "             fmt='o', ecolor='r', color='k',  markersize=5, capsize=4)\n",
        "plt.grid(True)\n",
        "plt.ylabel(\"Висота (м)\")\n",
        "plt.xlabel(\"час (с)\")\n",
        "plt.savefig(\"dataonly.pdf\")"
      ]
    },
    {
      "cell_type": "markdown",
      "source": [
        "Метод найменших повних квадратів, який враховує похибки як в залежних змінних $y_i$ так і в незалежних змінних $x_i$  реалізується за допомогою алгоритму який називається [Ortohonal Distance Regression](https://en.wikipedia.org/wiki/Total_least_squares). Останній алгоритм важливий для даних, що отримуються в фізичних експериментах. Сам алгоритм був вперше реалізований на мові ```FORTRAN``` під назвою [```ODRPACK```](https://dl.acm.org/doi/10.1145/1268776.1268782), а згодом розповсюджений  в багатьох програмних пакетах по обробці даних."
      ],
      "metadata": {
        "id": "2iOc7HlpcI27"
      }
    },
    {
      "cell_type": "code",
      "source": [
        "#@title Викликаємо пакет методу найменших повних квадратів (ODR)\n",
        "from scipy.odr import ODR, Model, RealData"
      ],
      "metadata": {
        "id": "j2iAMp5piMvg"
      },
      "execution_count": null,
      "outputs": []
    },
    {
      "cell_type": "markdown",
      "source": [
        "Задаємо модельну функцію $y = y_0 + v_0 t + \\frac{at^2}{2}$"
      ],
      "metadata": {
        "id": "N_5_ULNveaXz"
      }
    },
    {
      "cell_type": "code",
      "source": [
        "#@title \n",
        "# Задаємо модельну функцію\n",
        "def model_func(beta, t):\n",
        "    \"\"\"\n",
        "    Визначення математичної моделі для підгони.\n",
        "\n",
        "    Параметр підгонки beta[0] та beta[1]\n",
        "    \"\"\"\n",
        "    y = beta[0] + beta[1] * t + beta[2] * t ** 2 / 2\n",
        "    return y"
      ],
      "metadata": {
        "id": "qtkHDG3hgYJo"
      },
      "execution_count": null,
      "outputs": []
    },
    {
      "cell_type": "markdown",
      "source": [
        "Задаємо наближені значення параметрів моделі"
      ],
      "metadata": {
        "id": "hnDZLbbHeW4D"
      }
    },
    {
      "cell_type": "code",
      "source": [
        "#@title \n",
        "init_guess = [1,1,-10]"
      ],
      "metadata": {
        "id": "VS85QgRZjSmv"
      },
      "execution_count": null,
      "outputs": []
    },
    {
      "cell_type": "markdown",
      "source": [
        "Заганяємо дані і модель в алгоритм ODR"
      ],
      "metadata": {
        "id": "EjtEN5zaeTtb"
      }
    },
    {
      "cell_type": "code",
      "source": [
        "#@title \n",
        "# Здійснюємо підгону даних за моделлю\n",
        "# https://docs.scipy.org/doc/scipy/reference/odr.html\n",
        "\n",
        "# Створюємо екземпляр моделі\n",
        "model = Model(model_func)\n",
        "\n",
        "# Створюємо екземпляр даних data\n",
        "data = RealData(d['time'], d['pos'], d['stime'], d['spos'])\n",
        "\n",
        "# Створюємо ODR зі своїми даними, моделлю та початковою оцінкою параметрів\n",
        "odr = ODR(data, model, init_guess)\n",
        "\n",
        "# Вибір методу підгонки\n",
        "odr.set_job(fit_type=0)\n",
        "output = odr.run()"
      ],
      "metadata": {
        "id": "VpuZmhjIh9AI"
      },
      "execution_count": null,
      "outputs": []
    },
    {
      "cell_type": "markdown",
      "source": [
        "Будуємо експериментальні дані та маодельну криву і виводимо параметри моделі"
      ],
      "metadata": {
        "id": "OJPYcJ9meMYI"
      }
    },
    {
      "cell_type": "code",
      "source": [
        "#@title \n",
        "# Побудова даних\n",
        "plt.grid(True)\n",
        "plt.errorbar(d['time'], d['pos'], xerr= d['stime'], yerr = d['spos'],\n",
        "             fmt='o', ecolor = 'r', color = 'k',  markersize=5,\n",
        "             capsize=4, label=\"дані\")\n",
        "plt.ylabel(\"Висота (м)\")\n",
        "plt.xlabel(\"час (с)\")\n",
        "\n",
        "plt.plot(d['time'], model_func(output.beta, d['time']),\n",
        "         color=\"b\", linewidth=1, label=\"$y = y_0 + v_0 t + \\\\frac{at^2}{2}$\")\n",
        "plt.legend(bbox_to_anchor=(0.01, 0.99), loc='upper left', borderaxespad=0.)\n",
        "\n",
        "# Виведення результатів на координатну площину\n",
        "plt.title('$\\\\chi^2 = %.2f$\\n Параметри моделі $y_0 = (%.2f \\\\pm %.2f)$ м, '\n",
        "          '$v_0 = (%.1f \\\\pm %.1f)$ м/с, '\n",
        "          '$a = (%.1f \\\\pm %.1f)$ м/с$^2$'\n",
        "          %(output.res_var*(21-3),\n",
        "            output.beta[2],output.sd_beta[2],\n",
        "            output.beta[1],output.sd_beta[1],\n",
        "            output.beta[0],output.sd_beta[0]),\n",
        "          fontsize=10,\n",
        "         )\n",
        "\n",
        "print(\"chisq = %.2f\"% (output.res_var*(21-3)))\n",
        "print(\"y_0 = (%.2f +/- %.2f) м\"%(output.beta[2],output.sd_beta[2]))\n",
        "print(\"v_0 = (%.2f +/- %.2f) м/с\"%(output.beta[1],output.sd_beta[1]))\n",
        "print(\"a = (%.2f +/- %.2f) м/с^2\"%(output.beta[0],output.sd_beta[0]))"
      ],
      "metadata": {
        "colab": {
          "base_uri": "https://localhost:8080/",
          "height": 650
        },
        "id": "U4ILjUJVj1sJ",
        "outputId": "003e0693-48a6-4fa8-f5f4-90c7c7e9f7c3"
      },
      "execution_count": null,
      "outputs": [
        {
          "output_type": "stream",
          "name": "stdout",
          "text": [
            "chisq = 19.49\n",
            "y_0 = (-8.82 +/- 0.74) м\n",
            "v_0 = (11.29 +/- 0.77) м/с\n",
            "a = (0.76 +/- 0.35) м/с^2\n"
          ]
        },
        {
          "output_type": "display_data",
          "data": {
            "image/png": "[encoded data removed]",
            "text/plain": [
              "<Figure size 1000x600 with 1 Axes>"
            ]
          },
          "metadata": {
            "needs_background": "light"
          }
        }
      ]
    },
    {
      "cell_type": "markdown",
      "source": [
        "## Як провести успішну апроксимацію?"
      ],
      "metadata": {
        "id": "uMEqrqr1fEJy"
      }
    },
    {
      "cell_type": "markdown",
      "source": [
        "Для того, щоб скористатись алгоритмами і провести успішну апроксимацію даних, треба дотримуватись наступних правил:\n",
        "\n",
        "\n",
        "1. Виберіть відповідну модель та визначте число можливих параметрів.\n",
        "2.   Якщо модель можна лінеаризувати, то краще зробити це.\n",
        "3. Вкажіть початкові прийнятні значення параметрів моделі.\n",
        "4. Якщо в результаті апроксимації один з параметрів оцінено з похибкою $\\sigma_{p_i} \\gg p_i$, що значно перевищує значення самого параметра, то треба покласти знач\n"
      ],
      "metadata": {
        "id": "6WOLFMLre94U"
      }
    }
  ],
  "metadata": {
    "colab": {
      "collapsed_sections": [],
      "name": "Approximation.ipynb",
      "provenance": [],
      "toc_visible": true,
      "include_colab_link": true
    },
    "kernelspec": {
      "display_name": "Python 3",
      "name": "python3"
    },
    "language_info": {
      "name": "python"
    },
    "widgets": {
      "application/vnd.jupyter.widget-state+json": {
        "e63f5696e7524329a92947b20f303f53": {
          "model_module": "@jupyter-widgets/controls",
          "model_name": "VBoxModel",
          "model_module_version": "1.5.0",
          "state": {
            "_view_name": "VBoxView",
            "_dom_classes": [
              "widget-interact"
            ],
            "_model_name": "VBoxModel",
            "_view_module": "@jupyter-widgets/controls",
            "_model_module_version": "1.5.0",
            "_view_count": null,
            "_view_module_version": "1.5.0",
            "box_style": "",
            "layout": "IPY_MODEL_7290553014d8455db75e84e7da3392c4",
            "_model_module": "@jupyter-widgets/controls",
            "children": [
              "IPY_MODEL_12170962358a4eeda2116683b27b5932",
              "IPY_MODEL_03c1d40081ff4c08ac5bf91fa8275f12",
              "IPY_MODEL_703d9a8beef34189b03cd886086794c7",
              "IPY_MODEL_9f748d0fcabb4e91ad469afff5038612"
            ]
          }
        },
        "7290553014d8455db75e84e7da3392c4": {
          "model_module": "@jupyter-widgets/base",
          "model_name": "LayoutModel",
          "model_module_version": "1.2.0",
          "state": {
            "_view_name": "LayoutView",
            "grid_template_rows": null,
            "right": null,
            "justify_content": null,
            "_view_module": "@jupyter-widgets/base",
            "overflow": null,
            "_model_module_version": "1.2.0",
            "_view_count": null,
            "flex_flow": null,
            "width": null,
            "min_width": null,
            "border": null,
            "align_items": null,
            "bottom": null,
            "_model_module": "@jupyter-widgets/base",
            "top": null,
            "grid_column": null,
            "overflow_y": null,
            "overflow_x": null,
            "grid_auto_flow": null,
            "grid_area": null,
            "grid_template_columns": null,
            "flex": null,
            "_model_name": "LayoutModel",
            "justify_items": null,
            "grid_row": null,
            "max_height": null,
            "align_content": null,
            "visibility": null,
            "align_self": null,
            "height": null,
            "min_height": null,
            "padding": null,
            "grid_auto_rows": null,
            "grid_gap": null,
            "max_width": null,
            "order": null,
            "_view_module_version": "1.2.0",
            "grid_template_areas": null,
            "object_position": null,
            "object_fit": null,
            "grid_auto_columns": null,
            "margin": null,
            "display": null,
            "left": null
          }
        },
        "12170962358a4eeda2116683b27b5932": {
          "model_module": "@jupyter-widgets/controls",
          "model_name": "FloatSliderModel",
          "model_module_version": "1.5.0",
          "state": {
            "_view_name": "FloatSliderView",
            "style": "IPY_MODEL_1c39141e56cb42f68df59c868d9aab74",
            "_dom_classes": [],
            "description": "y0",
            "step": 0.1,
            "_model_name": "FloatSliderModel",
            "orientation": "horizontal",
            "max": 5,
            "_view_module": "@jupyter-widgets/controls",
            "_model_module_version": "1.5.0",
            "value": 1.5,
            "_view_count": null,
            "disabled": false,
            "_view_module_version": "1.5.0",
            "min": -2,
            "continuous_update": true,
            "readout_format": ".2f",
            "description_tooltip": null,
            "readout": true,
            "_model_module": "@jupyter-widgets/controls",
            "layout": "IPY_MODEL_240193f3f9dd473c8033748abf942cb9"
          }
        },
        "03c1d40081ff4c08ac5bf91fa8275f12": {
          "model_module": "@jupyter-widgets/controls",
          "model_name": "FloatSliderModel",
          "model_module_version": "1.5.0",
          "state": {
            "_view_name": "FloatSliderView",
            "style": "IPY_MODEL_71d1624ecb45481681f3c033d0667952",
            "_dom_classes": [],
            "description": "v0",
            "step": 0.1,
            "_model_name": "FloatSliderModel",
            "orientation": "horizontal",
            "max": 20,
            "_view_module": "@jupyter-widgets/controls",
            "_model_module_version": "1.5.0",
            "value": 10,
            "_view_count": null,
            "disabled": false,
            "_view_module_version": "1.5.0",
            "min": 0,
            "continuous_update": true,
            "readout_format": ".2f",
            "description_tooltip": null,
            "readout": true,
            "_model_module": "@jupyter-widgets/controls",
            "layout": "IPY_MODEL_253fe2a7af19437ab7f353a6f350febc"
          }
        },
        "703d9a8beef34189b03cd886086794c7": {
          "model_module": "@jupyter-widgets/controls",
          "model_name": "FloatSliderModel",
          "model_module_version": "1.5.0",
          "state": {
            "_view_name": "FloatSliderView",
            "style": "IPY_MODEL_f2b8470beb7e4b3ca52fcf5b47122fba",
            "_dom_classes": [],
            "description": "a",
            "step": 0.1,
            "_model_name": "FloatSliderModel",
            "orientation": "horizontal",
            "max": -5,
            "_view_module": "@jupyter-widgets/controls",
            "_model_module_version": "1.5.0",
            "value": -10,
            "_view_count": null,
            "disabled": false,
            "_view_module_version": "1.5.0",
            "min": -15,
            "continuous_update": true,
            "readout_format": ".2f",
            "description_tooltip": null,
            "readout": true,
            "_model_module": "@jupyter-widgets/controls",
            "layout": "IPY_MODEL_cd759d6eb7b84553901d90a72a2a88da"
          }
        },
        "9f748d0fcabb4e91ad469afff5038612": {
          "model_module": "@jupyter-widgets/output",
          "model_name": "OutputModel",
          "model_module_version": "1.0.0",
          "state": {
            "_view_name": "OutputView",
            "msg_id": "",
            "_dom_classes": [],
            "_model_name": "OutputModel",
            "outputs": [
              {
                "output_type": "display_data",
                "data": {
                  "image/png": "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\n",
                  "text/plain": "<Figure size 1000x600 with 1 Axes>"
                },
                "metadata": {
                  "needs_background": "light"
                }
              }
            ],
            "_view_module": "@jupyter-widgets/output",
            "_model_module_version": "1.0.0",
            "_view_count": null,
            "_view_module_version": "1.0.0",
            "layout": "IPY_MODEL_e88ea9d7209d480e9d067e9b4da861f7",
            "_model_module": "@jupyter-widgets/output"
          }
        },
        "1c39141e56cb42f68df59c868d9aab74": {
          "model_module": "@jupyter-widgets/controls",
          "model_name": "SliderStyleModel",
          "model_module_version": "1.5.0",
          "state": {
            "_view_name": "StyleView",
            "handle_color": null,
            "_model_name": "SliderStyleModel",
            "description_width": "",
            "_view_module": "@jupyter-widgets/base",
            "_model_module_version": "1.5.0",
            "_view_count": null,
            "_view_module_version": "1.2.0",
            "_model_module": "@jupyter-widgets/controls"
          }
        },
        "240193f3f9dd473c8033748abf942cb9": {
          "model_module": "@jupyter-widgets/base",
          "model_name": "LayoutModel",
          "model_module_version": "1.2.0",
          "state": {
            "_view_name": "LayoutView",
            "grid_template_rows": null,
            "right": null,
            "justify_content": null,
            "_view_module": "@jupyter-widgets/base",
            "overflow": null,
            "_model_module_version": "1.2.0",
            "_view_count": null,
            "flex_flow": null,
            "width": null,
            "min_width": null,
            "border": null,
            "align_items": null,
            "bottom": null,
            "_model_module": "@jupyter-widgets/base",
            "top": null,
            "grid_column": null,
            "overflow_y": null,
            "overflow_x": null,
            "grid_auto_flow": null,
            "grid_area": null,
            "grid_template_columns": null,
            "flex": null,
            "_model_name": "LayoutModel",
            "justify_items": null,
            "grid_row": null,
            "max_height": null,
            "align_content": null,
            "visibility": null,
            "align_self": null,
            "height": null,
            "min_height": null,
            "padding": null,
            "grid_auto_rows": null,
            "grid_gap": null,
            "max_width": null,
            "order": null,
            "_view_module_version": "1.2.0",
            "grid_template_areas": null,
            "object_position": null,
            "object_fit": null,
            "grid_auto_columns": null,
            "margin": null,
            "display": null,
            "left": null
          }
        },
        "71d1624ecb45481681f3c033d0667952": {
          "model_module": "@jupyter-widgets/controls",
          "model_name": "SliderStyleModel",
          "model_module_version": "1.5.0",
          "state": {
            "_view_name": "StyleView",
            "handle_color": null,
            "_model_name": "SliderStyleModel",
            "description_width": "",
            "_view_module": "@jupyter-widgets/base",
            "_model_module_version": "1.5.0",
            "_view_count": null,
            "_view_module_version": "1.2.0",
            "_model_module": "@jupyter-widgets/controls"
          }
        },
        "253fe2a7af19437ab7f353a6f350febc": {
          "model_module": "@jupyter-widgets/base",
          "model_name": "LayoutModel",
          "model_module_version": "1.2.0",
          "state": {
            "_view_name": "LayoutView",
            "grid_template_rows": null,
            "right": null,
            "justify_content": null,
            "_view_module": "@jupyter-widgets/base",
            "overflow": null,
            "_model_module_version": "1.2.0",
            "_view_count": null,
            "flex_flow": null,
            "width": null,
            "min_width": null,
            "border": null,
            "align_items": null,
            "bottom": null,
            "_model_module": "@jupyter-widgets/base",
            "top": null,
            "grid_column": null,
            "overflow_y": null,
            "overflow_x": null,
            "grid_auto_flow": null,
            "grid_area": null,
            "grid_template_columns": null,
            "flex": null,
            "_model_name": "LayoutModel",
            "justify_items": null,
            "grid_row": null,
            "max_height": null,
            "align_content": null,
            "visibility": null,
            "align_self": null,
            "height": null,
            "min_height": null,
            "padding": null,
            "grid_auto_rows": null,
            "grid_gap": null,
            "max_width": null,
            "order": null,
            "_view_module_version": "1.2.0",
            "grid_template_areas": null,
            "object_position": null,
            "object_fit": null,
            "grid_auto_columns": null,
            "margin": null,
            "display": null,
            "left": null
          }
        },
        "f2b8470beb7e4b3ca52fcf5b47122fba": {
          "model_module": "@jupyter-widgets/controls",
          "model_name": "SliderStyleModel",
          "model_module_version": "1.5.0",
          "state": {
            "_view_name": "StyleView",
            "handle_color": null,
            "_model_name": "SliderStyleModel",
            "description_width": "",
            "_view_module": "@jupyter-widgets/base",
            "_model_module_version": "1.5.0",
            "_view_count": null,
            "_view_module_version": "1.2.0",
            "_model_module": "@jupyter-widgets/controls"
          }
        },
        "cd759d6eb7b84553901d90a72a2a88da": {
          "model_module": "@jupyter-widgets/base",
          "model_name": "LayoutModel",
          "model_module_version": "1.2.0",
          "state": {
            "_view_name": "LayoutView",
            "grid_template_rows": null,
            "right": null,
            "justify_content": null,
            "_view_module": "@jupyter-widgets/base",
            "overflow": null,
            "_model_module_version": "1.2.0",
            "_view_count": null,
            "flex_flow": null,
            "width": null,
            "min_width": null,
            "border": null,
            "align_items": null,
            "bottom": null,
            "_model_module": "@jupyter-widgets/base",
            "top": null,
            "grid_column": null,
            "overflow_y": null,
            "overflow_x": null,
            "grid_auto_flow": null,
            "grid_area": null,
            "grid_template_columns": null,
            "flex": null,
            "_model_name": "LayoutModel",
            "justify_items": null,
            "grid_row": null,
            "max_height": null,
            "align_content": null,
            "visibility": null,
            "align_self": null,
            "height": null,
            "min_height": null,
            "padding": null,
            "grid_auto_rows": null,
            "grid_gap": null,
            "max_width": null,
            "order": null,
            "_view_module_version": "1.2.0",
            "grid_template_areas": null,
            "object_position": null,
            "object_fit": null,
            "grid_auto_columns": null,
            "margin": null,
            "display": null,
            "left": null
          }
        },
        "e88ea9d7209d480e9d067e9b4da861f7": {
          "model_module": "@jupyter-widgets/base",
          "model_name": "LayoutModel",
          "model_module_version": "1.2.0",
          "state": {
            "_view_name": "LayoutView",
            "grid_template_rows": null,
            "right": null,
            "justify_content": null,
            "_view_module": "@jupyter-widgets/base",
            "overflow": null,
            "_model_module_version": "1.2.0",
            "_view_count": null,
            "flex_flow": null,
            "width": null,
            "min_width": null,
            "border": null,
            "align_items": null,
            "bottom": null,
            "_model_module": "@jupyter-widgets/base",
            "top": null,
            "grid_column": null,
            "overflow_y": null,
            "overflow_x": null,
            "grid_auto_flow": null,
            "grid_area": null,
            "grid_template_columns": null,
            "flex": null,
            "_model_name": "LayoutModel",
            "justify_items": null,
            "grid_row": null,
            "max_height": null,
            "align_content": null,
            "visibility": null,
            "align_self": null,
            "height": null,
            "min_height": null,
            "padding": null,
            "grid_auto_rows": null,
            "grid_gap": null,
            "max_width": null,
            "order": null,
            "_view_module_version": "1.2.0",
            "grid_template_areas": null,
            "object_position": null,
            "object_fit": null,
            "grid_auto_columns": null,
            "margin": null,
            "display": null,
            "left": null
          }
        }
      }
    }
  },
  "nbformat": 4,
  "nbformat_minor": 0
}